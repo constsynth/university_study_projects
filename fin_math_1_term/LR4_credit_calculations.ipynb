{
 "cells": [
  {
   "cell_type": "markdown",
   "metadata": {},
   "source": [
    "## Лабораторная работа № 4 \"Кредитные расчеты\"\n",
    "### Вариант - 5"
   ]
  },
  {
   "cell_type": "markdown",
   "metadata": {},
   "source": [
    "#### Задача 1\n",
    "Заем был взят под 16% годовых, выплачивать осталось ежеквартально по 500 д.е. (500 д.е.) в течение 2 лет. Из-за изменения ситуации в стране процентная ставка снизилась до 7% годовых. В банке согласились с необходимостью пересчета ежеквартальных выплат. Каков должен быть новый размер выплаты? \n",
    "Расчеты провести для простой и сложной процентной ставки."
   ]
  },
  {
   "cell_type": "code",
   "execution_count": 1,
   "metadata": {},
   "outputs": [
    {
     "name": "stdout",
     "output_type": "stream",
     "text": [
      "Новый размер выплаты (простые проценты): 431.82 д.е.\n",
      "Новый размер выплаты (сложные проценты): 454.60 д.е.\n"
     ]
    }
   ],
   "source": [
    "def calculate_new_payment_simple(original_payment, original_rate, new_rate, years, periods_per_year):\n",
    "    \"\"\"\n",
    "    Расчет нового размера выплаты для простой процентной ставки\n",
    "    \"\"\"\n",
    "    total_payments = years * periods_per_year\n",
    "    total_original_interest = original_payment * total_payments\n",
    "    \n",
    "    # Расчет первоначальной суммы кредита для простых процентов\n",
    "    original_interest_per_period = original_rate / periods_per_year\n",
    "    principal = total_original_interest / (1 + original_interest_per_period * total_payments)\n",
    "    \n",
    "    # Расчет нового платежа\n",
    "    new_interest_per_period = new_rate / periods_per_year\n",
    "    new_payment = principal * (1 + new_interest_per_period * total_payments) / total_payments\n",
    "    \n",
    "    return new_payment\n",
    "\n",
    "def calculate_new_payment_compound(original_payment, original_rate, new_rate, years, periods_per_year):\n",
    "    \"\"\"\n",
    "    Расчет нового размера выплаты для сложной процентной ставки\n",
    "    \"\"\"\n",
    "    total_payments = years * periods_per_year\n",
    "    original_interest_per_period = original_rate / periods_per_year\n",
    "    \n",
    "    # Расчет первоначальной суммы кредита для сложных процентов\n",
    "    principal = original_payment * ((1 - (1 + original_interest_per_period)**(-total_payments)) / original_interest_per_period)\n",
    "    \n",
    "    # Расчет нового платежа\n",
    "    new_interest_per_period = new_rate / periods_per_year\n",
    "    new_payment = principal * new_interest_per_period / (1 - (1 + new_interest_per_period)**(-total_payments))\n",
    "    \n",
    "    return new_payment\n",
    "\n",
    "# Параметры задачи\n",
    "original_payment = 500\n",
    "original_rate = 0.16  # 16%\n",
    "new_rate = 0.07       # 7%\n",
    "years = 2\n",
    "periods_per_year = 4  # ежеквартально\n",
    "\n",
    "# Расчеты\n",
    "new_payment_simple = calculate_new_payment_simple(original_payment, original_rate, new_rate, years, periods_per_year)\n",
    "new_payment_compound = calculate_new_payment_compound(original_payment, original_rate, new_rate, years, periods_per_year)\n",
    "\n",
    "print(f\"Новый размер выплаты (простые проценты): {new_payment_simple:.2f} д.е.\")\n",
    "print(f\"Новый размер выплаты (сложные проценты): {new_payment_compound:.2f} д.е.\")"
   ]
  },
  {
   "cell_type": "markdown",
   "metadata": {},
   "source": [
    "#### Задача 2\n",
    "Проверьте план погашения основного долга равными годовыми уплатами, если величина займа составляет 700 д.е., а процентная ставка  7%. Уплаты в течение 5 лет составляли соответственно 189, 179.2, 169.4, 159.6 и 149.8 д.е."
   ]
  },
  {
   "cell_type": "code",
   "execution_count": 4,
   "metadata": {},
   "outputs": [
    {
     "name": "stdout",
     "output_type": "stream",
     "text": [
      "Год | Остаток долга | Платеж по процентам | Платеж по основному | Общий платеж | План платежа\n",
      "-------------------------------------------------------------------------------------\n",
      "  1 |       700.00 |               49.00 |             140.00 |        189.00 |        189.00\n",
      "  2 |       560.00 |               39.20 |             140.00 |        179.20 |        179.20\n",
      "  3 |       420.00 |               29.40 |             140.00 |        169.40 |        169.40\n",
      "  4 |       280.00 |               19.60 |             140.00 |        159.60 |        159.60\n",
      "  5 |       140.00 |                9.80 |             140.00 |        149.80 |        149.80\n"
     ]
    }
   ],
   "source": [
    "def validate_repayment_plan(principal, rate, years, payments):\n",
    "    \"\"\"\n",
    "    Проверка плана погашения основного долга равными годовыми уплатами\n",
    "    \"\"\"\n",
    "    remaining_principal = principal\n",
    "    total_principal_paid = 0\n",
    "    annual_principal_payment = principal / years\n",
    "    \n",
    "    print(\"Год | Остаток долга | Платеж по процентам | Платеж по основному | Общий платеж | План платежа\")\n",
    "    print(\"-\" * 85)\n",
    "    \n",
    "    for year in range(1, years + 1):\n",
    "        interest_payment = remaining_principal * rate\n",
    "        total_payment_expected = interest_payment + annual_principal_payment\n",
    "        actual_payment = payments[year - 1]\n",
    "        \n",
    "        print(f\"{year:3} | {remaining_principal:12.2f} | {interest_payment:19.2f} | {annual_principal_payment:18.2f} | {total_payment_expected:13.2f} | {actual_payment:13.2f}\")\n",
    "        \n",
    "        remaining_principal -= annual_principal_payment\n",
    "        total_principal_paid += annual_principal_payment\n",
    "    \n",
    "\n",
    "# Параметры задачи\n",
    "principal = 700\n",
    "rate = 0.07\n",
    "years = 5\n",
    "payments = [189, 179.2, 169.4, 159.6, 149.8]\n",
    "\n",
    "validate_repayment_plan(principal, rate, years, payments)"
   ]
  },
  {
   "cell_type": "markdown",
   "metadata": {},
   "source": [
    "#### Задача 3\n",
    "В городе есть банк, выплачивающий 8% годовых. Как вы объясните, почему автомагазин продает автомобили в кредит под 6% годовых?"
   ]
  },
  {
   "cell_type": "markdown",
   "metadata": {},
   "source": [
    "Объяснение разницы процентных ставок между банком и автомагазином:\n",
    "\n",
    "1. Автомагазин может предлагать более низкие ставки, так как:\n",
    "   - Кредит на автомобиль является обеспеченным (автомобиль служит залогом)\n",
    "   - Автомагазин может получать доход от продажи дополнительных услуг (страховка, обслуживание)\n",
    "   - Производитель может субсидировать процентные ставки для стимулирования продаж\n",
    "\n",
    "2. Банк предлагает 8% на депозиты, но:\n",
    "   - Автокредиты в банках обычно имеют более высокие ставки (10-15%)\n",
    "   - Автомагазин может иметь специальные договоренности с банками\n",
    "   - Разница может компенсироваться первоначальным взносом или другими условиями\n",
    "\n",
    "Вывод: 6% в автомагазине - это специальное предложение, возможное благодаря:\n",
    "- Субсидиям от производителя\n",
    "- Продаже дополнительных услуг\n",
    "- Использованию автомобиля как залога"
   ]
  },
  {
   "cell_type": "markdown",
   "metadata": {},
   "source": [
    "#### Задача 4\n",
    "На покупку дачного домика взят потребительский кредит 40 000 руб. на 7 лет под 7% годовых. Его нужно погашать равными ежеквартальными выплатами. Найти размер этой выплаты: а) если кредит взят под простые проценты; б) если кредит взят под сложные проценты. Найти сумму, которую может получить банк, если поступающие платежи будет размещать в другом банке под те же 7% годовых: а) если кредит взят под простые проценты; б) если кредит взят под сложные проценты."
   ]
  },
  {
   "cell_type": "code",
   "execution_count": 5,
   "metadata": {},
   "outputs": [
    {
     "name": "stdout",
     "output_type": "stream",
     "text": [
      "Ежеквартальный платеж (простые проценты): 2128.57 руб.\n",
      "Ежеквартальный платеж (сложные проценты): 1819.26 руб.\n",
      "Доход банка от реинвестирования (простые проценты): 76070.63 руб.\n",
      "Доход банка от реинвестирования (сложные проценты): 65016.52 руб.\n"
     ]
    }
   ],
   "source": [
    "def calculate_payments_simple(principal, rate, years, periods_per_year):\n",
    "    \"\"\"\n",
    "    Расчет ежеквартальных выплат для простых процентов\n",
    "    \"\"\"\n",
    "    total_periods = years * periods_per_year\n",
    "    interest_per_period = rate / periods_per_year\n",
    "    total_payment = principal * (1 + interest_per_period * total_periods)\n",
    "    periodic_payment = total_payment / total_periods\n",
    "    return periodic_payment\n",
    "\n",
    "def calculate_payments_compound(principal, rate, years, periods_per_year):\n",
    "    \"\"\"\n",
    "    Расчет ежеквартальных выплат для сложных процентов\n",
    "    \"\"\"\n",
    "    interest_per_period = rate / periods_per_year\n",
    "    total_periods = years * periods_per_year\n",
    "    annuity_factor = (interest_per_period * (1 + interest_per_period)**total_periods) / ((1 + interest_per_period)**total_periods - 1)\n",
    "    periodic_payment = principal * annuity_factor\n",
    "    return periodic_payment\n",
    "\n",
    "def calculate_bank_income(payments, rate, years, periods_per_year):\n",
    "    \"\"\"\n",
    "    Расчет дохода банка от реинвестирования платежей\n",
    "    \"\"\"\n",
    "    interest_per_period = rate / periods_per_year\n",
    "    total_periods = years * periods_per_year\n",
    "    future_value = 0\n",
    "    \n",
    "    for t in range(1, total_periods + 1):\n",
    "        future_value += payments * (1 + interest_per_period)**(total_periods - t)\n",
    "    \n",
    "    return future_value\n",
    "\n",
    "# Параметры задачи\n",
    "principal = 40000\n",
    "rate = 0.07\n",
    "years = 7\n",
    "periods_per_year = 4\n",
    "\n",
    "# Расчеты\n",
    "payment_simple = calculate_payments_simple(principal, rate, years, periods_per_year)\n",
    "payment_compound = calculate_payments_compound(principal, rate, years, periods_per_year)\n",
    "bank_income_simple = calculate_bank_income(payment_simple, rate, years, periods_per_year)\n",
    "bank_income_compound = calculate_bank_income(payment_compound, rate, years, periods_per_year)\n",
    "\n",
    "print(f\"Ежеквартальный платеж (простые проценты): {payment_simple:.2f} руб.\")\n",
    "print(f\"Ежеквартальный платеж (сложные проценты): {payment_compound:.2f} руб.\")\n",
    "print(f\"Доход банка от реинвестирования (простые проценты): {bank_income_simple:.2f} руб.\")\n",
    "print(f\"Доход банка от реинвестирования (сложные проценты): {bank_income_compound:.2f} руб.\")"
   ]
  },
  {
   "cell_type": "markdown",
   "metadata": {},
   "source": [
    "#### Задача 5:\n",
    "Магазин продает телевизоры в рассрочку на 1 год. Сразу же к цене телевизора $400 добавляют  8% и всю эту сумму надо погасить в течение года, причем стоимость теле­визора гасится равномерно, а надбавка — по правилу 78. Найти ежемесячные выплаты. "
   ]
  },
  {
   "cell_type": "code",
   "execution_count": 7,
   "metadata": {},
   "outputs": [
    {
     "name": "stdout",
     "output_type": "stream",
     "text": [
      "Ежемесячные выплаты:\n",
      "Месяц  1: 38.26 $\n",
      "Месяц  2: 37.85 $\n",
      "Месяц  3: 37.44 $\n",
      "Месяц  4: 37.03 $\n",
      "Месяц  5: 36.62 $\n",
      "Месяц  6: 36.21 $\n",
      "Месяц  7: 35.79 $\n",
      "Месяц  8: 35.38 $\n",
      "Месяц  9: 34.97 $\n",
      "Месяц 10: 34.56 $\n",
      "Месяц 11: 34.15 $\n",
      "Месяц 12: 33.74 $\n"
     ]
    }
   ],
   "source": [
    "def calculate_monthly_payments_rule78(price, markup_rate, months):\n",
    "    \"\"\"\n",
    "    Расчет ежемесячных выплат по правилу 78\n",
    "    \"\"\"\n",
    "    principal_payment = price / months\n",
    "    total_interest = price * markup_rate\n",
    "    \n",
    "    # Расчет суммы цифр месяцев (правило 78)\n",
    "    sum_of_digits = months * (months + 1) / 2\n",
    "    \n",
    "    payments = []\n",
    "    for month in range(1, months + 1):\n",
    "        interest_payment = total_interest * (months - month + 1) / sum_of_digits\n",
    "        total_payment = principal_payment + interest_payment\n",
    "        payments.append(total_payment)\n",
    "    \n",
    "    return payments\n",
    "\n",
    "# Параметры задачи\n",
    "price = 400\n",
    "markup_rate = 0.08\n",
    "months = 12\n",
    "\n",
    "payments = calculate_monthly_payments_rule78(price, markup_rate, months)\n",
    "\n",
    "print(\"Ежемесячные выплаты:\")\n",
    "for month, payment in enumerate(payments, 1):\n",
    "    print(f\"Месяц {month:2}: {payment:.2f} $\")"
   ]
  },
  {
   "cell_type": "markdown",
   "metadata": {},
   "source": [
    "#### Задача 6:\n",
    "Кредит $500 банк дает под 8% годовых, которые сразу же высчитывает. Проанализируйте предыдущую задачу: может быть, лучше взять в банке кредит в $500? При какой величине кредита оба варианта будут эквивалентны."
   ]
  },
  {
   "cell_type": "code",
   "execution_count": 8,
   "metadata": {},
   "outputs": [
    {
     "name": "stdout",
     "output_type": "stream",
     "text": [
      "Эффективная ставка для кредита 500$: 8.70%\n",
      "Эквивалентная сумма кредита: 460.00 $\n",
      "\n",
      "Анализ:\n",
      "1. При кредите 500$ под 8% с удержанием процентов вперед:\n",
      "   - Фактически получаем 460$ (500 - 8% от 500)\n",
      "   - Эффективная ставка составляет около 8.7%\n",
      "\n",
      "2. Для эквивалентности с рассрочкой из задачи 5 нужно:\n",
      "   - Либо уменьшить сумму кредита до 460$\n",
      "   - Либо снизить номинальную ставку\n",
      "\n",
      "Вывод: кредит в банке менее выгоден, чем рассрочка в магазине,\n",
      "если не учитывать другие факторы (например, возможность досрочного погашения).\n",
      "\n"
     ]
    }
   ],
   "source": [
    "def calculate_effective_rate(principal, interest, years):\n",
    "    \"\"\"\n",
    "    Расчет эффективной ставки для кредита с удержанием процентов вперед\n",
    "    \"\"\"\n",
    "    actual_received = principal - principal * interest * years\n",
    "    effective_rate = (principal * interest * years) / (actual_received * years)\n",
    "    return effective_rate\n",
    "\n",
    "# Параметры задачи\n",
    "principal = 500\n",
    "rate = 0.08\n",
    "years = 1\n",
    "\n",
    "effective_rate = calculate_effective_rate(principal, rate, years)\n",
    "equivalent_principal = principal * (1 - rate * years)\n",
    "\n",
    "print(f\"Эффективная ставка для кредита 500$: {effective_rate:.2%}\")\n",
    "print(f\"Эквивалентная сумма кредита: {equivalent_principal:.2f} $\")\n",
    "\n",
    "print(\"\"\"\n",
    "Анализ:\n",
    "1. При кредите 500$ под 8% с удержанием процентов вперед:\n",
    "   - Фактически получаем 460$ (500 - 8% от 500)\n",
    "   - Эффективная ставка составляет около 8.7%\n",
    "\n",
    "2. Для эквивалентности с рассрочкой из задачи 5 нужно:\n",
    "   - Либо уменьшить сумму кредита до 460$\n",
    "   - Либо снизить номинальную ставку\n",
    "\n",
    "Вывод: кредит в банке менее выгоден, чем рассрочка в магазине,\n",
    "если не учитывать другие факторы (например, возможность досрочного погашения).\n",
    "\"\"\")"
   ]
  },
  {
   "cell_type": "markdown",
   "metadata": {},
   "source": [
    "#### Задача 7:\n",
    "Заем $5000 взят на 9 лет под 8% годовых. Погашаться будет равными ежегодными выплатами основного долга. Найдите ежегодные выплаты. Расчеты провести для простой и сложной процентной ставки. "
   ]
  },
  {
   "cell_type": "code",
   "execution_count": 12,
   "metadata": {},
   "outputs": [
    {
     "name": "stdout",
     "output_type": "stream",
     "text": [
      "Задача 7: Погашение равными выплатами основного долга (простые проценты):\n",
      "Год 1: 955.56 $\n",
      "Год 2: 911.11 $\n",
      "Год 3: 866.67 $\n",
      "Год 4: 822.22 $\n",
      "Год 5: 777.78 $\n",
      "Год 6: 733.33 $\n",
      "Год 7: 688.89 $\n",
      "Год 8: 644.44 $\n",
      "Год 9: 600.00 $\n"
     ]
    }
   ],
   "source": [
    "def calculate_repayment_simple(principal, rate, years):\n",
    "    \"\"\"\n",
    "    Расчет ежегодных выплат (простые проценты) - равные выплаты основного долга\n",
    "    \"\"\"\n",
    "    principal_payment = principal / years\n",
    "    payments = []\n",
    "    \n",
    "    for year in range(1, years + 1):\n",
    "        interest_payment = (principal - (year - 1) * principal_payment) * rate\n",
    "        total_payment = principal_payment + interest_payment\n",
    "        payments.append(total_payment)\n",
    "    \n",
    "    return payments\n",
    "\n",
    "def calculate_repayment_compound(principal, rate, years):\n",
    "    \"\"\"\n",
    "    Расчет ежегодных выплат (сложные проценты) - аннуитетные платежи\n",
    "    \"\"\"\n",
    "    annuity_factor = (rate * (1 + rate)**years) / ((1 + rate)**years - 1)\n",
    "    payment = principal * annuity_factor\n",
    "    return [payment] * years\n",
    "\n",
    "# Параметры задачи\n",
    "principal = 5000\n",
    "rate = 0.08\n",
    "years = 9\n",
    "\n",
    "# Расчеты для задачи 7 (равные выплаты основного долга)\n",
    "payments_simple = calculate_repayment_simple(principal, rate, years)\n",
    "\n",
    "# Расчеты для задачи 8 (аннуитетные платежи)\n",
    "payments_compound = calculate_repayment_compound(principal, rate, years)\n",
    "\n",
    "print(\"Задача 7: Погашение равными выплатами основного долга (простые проценты):\")\n",
    "for year, payment in enumerate(payments_simple, 1):\n",
    "    print(f\"Год {year}: {payment:.2f} $\")"
   ]
  },
  {
   "cell_type": "markdown",
   "metadata": {},
   "source": [
    "#### Задача 8:\n",
    "Заем 5000 д.е. взят на 9 лет под 8% годовых. Погашаться будет ежегодными равными выплатами. Найдите размер этой выплаты. \tРасчеты провести для простой и сложной процентной ставки."
   ]
  },
  {
   "cell_type": "code",
   "execution_count": 13,
   "metadata": {},
   "outputs": [
    {
     "name": "stdout",
     "output_type": "stream",
     "text": [
      "\n",
      "Задача 8: Аннуитетные платежи (сложные проценты):\n",
      "Год 1: 800.40 $\n",
      "Год 2: 800.40 $\n",
      "Год 3: 800.40 $\n",
      "Год 4: 800.40 $\n",
      "Год 5: 800.40 $\n",
      "Год 6: 800.40 $\n",
      "Год 7: 800.40 $\n",
      "Год 8: 800.40 $\n",
      "Год 9: 800.40 $\n"
     ]
    }
   ],
   "source": [
    "print(\"\\nЗадача 8: Аннуитетные платежи (сложные проценты):\")\n",
    "for year, payment in enumerate(payments_compound, 1):\n",
    "    print(f\"Год {year}: {payment:.2f} $\")"
   ]
  },
  {
   "cell_type": "markdown",
   "metadata": {},
   "source": [
    "#### Задача 9:\n",
    "Заем 20 000 д.е. взят на 10 лет под 7% годовых. Погашаться будет начиная с конца 5-го года ежегодными равными выплатами. Найдите размер этой выплаты. Расчеты провести для простой и сложной процентной ставки."
   ]
  },
  {
   "cell_type": "code",
   "execution_count": 14,
   "metadata": {},
   "outputs": [
    {
     "name": "stdout",
     "output_type": "stream",
     "text": [
      "Погашение с отсрочкой (простые проценты):\n",
      "Год 6: 7290.00 д.е.\n",
      "Год 7: 6912.00 д.е.\n",
      "Год 8: 6534.00 д.е.\n",
      "Год 9: 6156.00 д.е.\n",
      "Год 10: 5778.00 д.е.\n",
      "\n",
      "Погашение с отсрочкой (сложные проценты):\n",
      "Год 6: 6841.39 д.е.\n",
      "Год 7: 6841.39 д.е.\n",
      "Год 8: 6841.39 д.е.\n",
      "Год 9: 6841.39 д.е.\n",
      "Год 10: 6841.39 д.е.\n"
     ]
    }
   ],
   "source": [
    "def calculate_deferred_payment_simple(principal, rate, total_years, deferred_years):\n",
    "    \"\"\"\n",
    "    Расчет выплат с отсрочкой (простые проценты)\n",
    "    \"\"\"\n",
    "    # Наращивание суммы за период отсрочки\n",
    "    deferred_amount = principal * (1 + rate * deferred_years)\n",
    "    \n",
    "    # Расчет ежегодных выплат\n",
    "    payment_years = total_years - deferred_years\n",
    "    principal_payment = deferred_amount / payment_years\n",
    "    payments = []\n",
    "    \n",
    "    for year in range(1, payment_years + 1):\n",
    "        interest_payment = (deferred_amount - (year - 1) * principal_payment) * rate\n",
    "        total_payment = principal_payment + interest_payment\n",
    "        payments.append(total_payment)\n",
    "    \n",
    "    return payments\n",
    "\n",
    "def calculate_deferred_payment_compound(principal, rate, total_years, deferred_years):\n",
    "    \"\"\"\n",
    "    Расчет выплат с отсрочкой (сложные проценты)\n",
    "    \"\"\"\n",
    "    # Наращивание суммы за период отсрочки\n",
    "    deferred_amount = principal * (1 + rate)**deferred_years\n",
    "    \n",
    "    # Расчет аннуитетных платежей\n",
    "    payment_years = total_years - deferred_years\n",
    "    annuity_factor = (rate * (1 + rate)**payment_years) / ((1 + rate)**payment_years - 1)\n",
    "    payment = deferred_amount * annuity_factor\n",
    "    \n",
    "    return [payment] * payment_years\n",
    "\n",
    "# Параметры задачи\n",
    "principal = 20000\n",
    "rate = 0.07\n",
    "total_years = 10\n",
    "deferred_years = 5\n",
    "\n",
    "payments_simple = calculate_deferred_payment_simple(principal, rate, total_years, deferred_years)\n",
    "payments_compound = calculate_deferred_payment_compound(principal, rate, total_years, deferred_years)\n",
    "\n",
    "print(\"Погашение с отсрочкой (простые проценты):\")\n",
    "for year, payment in enumerate(payments_simple, deferred_years + 1):\n",
    "    print(f\"Год {year}: {payment:.2f} д.е.\")\n",
    "\n",
    "print(\"\\nПогашение с отсрочкой (сложные проценты):\")\n",
    "for year, payment in enumerate(payments_compound, deferred_years + 1):\n",
    "    print(f\"Год {year}: {payment:.2f} д.е.\")"
   ]
  },
  {
   "cell_type": "markdown",
   "metadata": {},
   "source": [
    "#### Задача 10:\n",
    "Срок погашения долга – 10 лет. При выдаче кредита была использована сложная учетная ставка 6% годовых. Величина дисконта за 6-й год срока долга составила 300 д.е. Какова величина дисконта за 3-й и 8-й годы в сроке долга? Какова сумма кредита? Ответ получить двумя способами."
   ]
  },
  {
   "cell_type": "code",
   "execution_count": 15,
   "metadata": {},
   "outputs": [
    {
     "name": "stdout",
     "output_type": "stream",
     "text": [
      "Сумма кредита: 6812.88 д.е.\n",
      "Дисконт за 3-й год: 361.19 д.е.\n",
      "Дисконт за 8-й год: 265.08 д.е.\n",
      "\n",
      "Дисконты по годам:\n",
      "Год 1: 408.77 д.е.\n",
      "Год 2: 384.25 д.е.\n",
      "Год 3: 361.19 д.е.\n",
      "Год 4: 339.52 д.е.\n",
      "Год 5: 319.15 д.е.\n",
      "Год 6: 300.00 д.е.\n",
      "Год 7: 282.00 д.е.\n",
      "Год 8: 265.08 д.е.\n",
      "Год 9: 249.18 д.е.\n",
      "Год 10: 234.22 д.е.\n"
     ]
    }
   ],
   "source": [
    "def calculate_discounts(discount_rate, years, discount_year_6):\n",
    "    \"\"\"\n",
    "    Расчет дисконтов по сложной учетной ставке\n",
    "    \"\"\"\n",
    "    # Способ 1: через коэффициенты дисконтирования\n",
    "    d = discount_rate\n",
    "    discount_factor_5 = (1 - d)**5\n",
    "    discount_factor_6 = (1 - d)**6\n",
    "    discount_year_6_theory = discount_factor_5 - discount_factor_6\n",
    "    \n",
    "    # Нахождение суммы кредита\n",
    "    S = discount_year_6 / discount_year_6_theory\n",
    "    \n",
    "    # Расчет дисконтов для 3-го и 8-го года\n",
    "    discount_factor_2 = (1 - d)**2\n",
    "    discount_factor_3 = (1 - d)**3\n",
    "    discount_year_3 = S * (discount_factor_2 - discount_factor_3)\n",
    "    \n",
    "    discount_factor_7 = (1 - d)**7\n",
    "    discount_factor_8 = (1 - d)**8\n",
    "    discount_year_8 = S * (discount_factor_7 - discount_factor_8)\n",
    "    \n",
    "    # Способ 2: через последовательность\n",
    "    discounts = []\n",
    "    for year in range(1, years + 1):\n",
    "        discount = S * (1 - d)**(year - 1) * d\n",
    "        discounts.append(discount)\n",
    "    \n",
    "    return S, discount_year_3, discount_year_8, discounts\n",
    "\n",
    "# Параметры задачи\n",
    "discount_rate = 0.06\n",
    "years = 10\n",
    "discount_year_6 = 300\n",
    "\n",
    "S, discount_3, discount_8, all_discounts = calculate_discounts(discount_rate, years, discount_year_6)\n",
    "\n",
    "print(f\"Сумма кредита: {S:.2f} д.е.\")\n",
    "print(f\"Дисконт за 3-й год: {discount_3:.2f} д.е.\")\n",
    "print(f\"Дисконт за 8-й год: {discount_8:.2f} д.е.\")\n",
    "\n",
    "print(\"\\nДисконты по годам:\")\n",
    "for year, discount in enumerate(all_discounts, 1):\n",
    "    print(f\"Год {year}: {discount:.2f} д.е.\")"
   ]
  }
 ],
 "metadata": {
  "kernelspec": {
   "display_name": "base",
   "language": "python",
   "name": "python3"
  },
  "language_info": {
   "codemirror_mode": {
    "name": "ipython",
    "version": 3
   },
   "file_extension": ".py",
   "mimetype": "text/x-python",
   "name": "python",
   "nbconvert_exporter": "python",
   "pygments_lexer": "ipython3",
   "version": "3.12.1"
  }
 },
 "nbformat": 4,
 "nbformat_minor": 2
}
