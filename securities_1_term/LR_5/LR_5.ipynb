{
 "cells": [
  {
   "cell_type": "markdown",
   "metadata": {},
   "source": [
    "# Лабораторная работа 5 \"Множественная регрессия\"\n",
    "# Вариант №3"
   ]
  },
  {
   "cell_type": "code",
   "execution_count": 20,
   "metadata": {},
   "outputs": [],
   "source": [
    "import numpy as np\n",
    "import pandas as pd\n",
    "import seaborn as sns\n",
    "from scipy import stats\n",
    "import statsmodels.api as sm\n",
    "import matplotlib.pyplot as plt\n",
    "from statsmodels.stats.outliers_influence import variance_inflation_factor"
   ]
  },
  {
   "cell_type": "markdown",
   "metadata": {},
   "source": [
    "## Считываем набор данных для третьего варианта"
   ]
  },
  {
   "cell_type": "code",
   "execution_count": 4,
   "metadata": {},
   "outputs": [],
   "source": [
    "df = pd.read_excel('v3_table.xlsx')"
   ]
  },
  {
   "cell_type": "code",
   "execution_count": 5,
   "metadata": {},
   "outputs": [
    {
     "data": {
      "text/html": [
       "<div>\n",
       "<style scoped>\n",
       "    .dataframe tbody tr th:only-of-type {\n",
       "        vertical-align: middle;\n",
       "    }\n",
       "\n",
       "    .dataframe tbody tr th {\n",
       "        vertical-align: top;\n",
       "    }\n",
       "\n",
       "    .dataframe thead th {\n",
       "        text-align: right;\n",
       "    }\n",
       "</style>\n",
       "<table border=\"1\" class=\"dataframe\">\n",
       "  <thead>\n",
       "    <tr style=\"text-align: right;\">\n",
       "      <th></th>\n",
       "      <th>x1</th>\n",
       "      <th>x2</th>\n",
       "      <th>x3</th>\n",
       "      <th>y</th>\n",
       "    </tr>\n",
       "  </thead>\n",
       "  <tbody>\n",
       "    <tr>\n",
       "      <th>0</th>\n",
       "      <td>48</td>\n",
       "      <td>44</td>\n",
       "      <td>47</td>\n",
       "      <td>34</td>\n",
       "    </tr>\n",
       "    <tr>\n",
       "      <th>1</th>\n",
       "      <td>57</td>\n",
       "      <td>35</td>\n",
       "      <td>56</td>\n",
       "      <td>35</td>\n",
       "    </tr>\n",
       "    <tr>\n",
       "      <th>2</th>\n",
       "      <td>55</td>\n",
       "      <td>39</td>\n",
       "      <td>54</td>\n",
       "      <td>38</td>\n",
       "    </tr>\n",
       "    <tr>\n",
       "      <th>3</th>\n",
       "      <td>61</td>\n",
       "      <td>43</td>\n",
       "      <td>62</td>\n",
       "      <td>39</td>\n",
       "    </tr>\n",
       "    <tr>\n",
       "      <th>4</th>\n",
       "      <td>56</td>\n",
       "      <td>36</td>\n",
       "      <td>56</td>\n",
       "      <td>41</td>\n",
       "    </tr>\n",
       "  </tbody>\n",
       "</table>\n",
       "</div>"
      ],
      "text/plain": [
       "   x1  x2  x3   y\n",
       "0  48  44  47  34\n",
       "1  57  35  56  35\n",
       "2  55  39  54  38\n",
       "3  61  43  62  39\n",
       "4  56  36  56  41"
      ]
     },
     "execution_count": 5,
     "metadata": {},
     "output_type": "execute_result"
    }
   ],
   "source": [
    "df.head()"
   ]
  },
  {
   "cell_type": "markdown",
   "metadata": {},
   "source": [
    "## 1. Рассчитать параметры линейного уравнения множественной регрессии с полным перечнем факторов. "
   ]
  },
  {
   "cell_type": "code",
   "execution_count": 6,
   "metadata": {},
   "outputs": [],
   "source": [
    "X = df[['x1', 'x2', 'x3']]\n",
    "X = sm.add_constant(X)  # Добавляем константу\n",
    "y = df['y']"
   ]
  },
  {
   "cell_type": "code",
   "execution_count": 7,
   "metadata": {},
   "outputs": [],
   "source": [
    "model = sm.OLS(y, X).fit() # Обучаем модель множественной регрессии"
   ]
  },
  {
   "cell_type": "code",
   "execution_count": 8,
   "metadata": {},
   "outputs": [
    {
     "name": "stdout",
     "output_type": "stream",
     "text": [
      "                            OLS Regression Results                            \n",
      "==============================================================================\n",
      "Dep. Variable:                      y   R-squared:                       0.946\n",
      "Model:                            OLS   Adj. R-squared:                  0.930\n",
      "Method:                 Least Squares   F-statistic:                     58.89\n",
      "Date:                Wed, 19 Mar 2025   Prob (F-statistic):           1.17e-06\n",
      "Time:                        22:07:14   Log-Likelihood:                -28.102\n",
      "No. Observations:                  14   AIC:                             64.20\n",
      "Df Residuals:                      10   BIC:                             66.76\n",
      "Df Model:                           3                                         \n",
      "Covariance Type:            nonrobust                                         \n",
      "==============================================================================\n",
      "                 coef    std err          t      P>|t|      [0.025      0.975]\n",
      "------------------------------------------------------------------------------\n",
      "const          3.3248      5.909      0.563      0.586      -9.841      16.490\n",
      "x1             0.0010      0.965      0.001      0.999      -2.149       2.151\n",
      "x2             0.1356      0.151      0.898      0.390      -0.201       0.472\n",
      "x3             0.5236      0.962      0.544      0.598      -1.619       2.666\n",
      "==============================================================================\n",
      "Omnibus:                        1.198   Durbin-Watson:                   2.434\n",
      "Prob(Omnibus):                  0.549   Jarque-Bera (JB):                0.515\n",
      "Skew:                          -0.467   Prob(JB):                        0.773\n",
      "Kurtosis:                       2.898   Cond. No.                         899.\n",
      "==============================================================================\n",
      "\n",
      "Notes:\n",
      "[1] Standard Errors assume that the covariance matrix of the errors is correctly specified.\n"
     ]
    },
    {
     "name": "stderr",
     "output_type": "stream",
     "text": [
      "/home/eugene/miniconda3/lib/python3.12/site-packages/scipy/stats/_stats_py.py:1971: UserWarning: kurtosistest only valid for n>=20 ... continuing anyway, n=14\n",
      "  k, _ = kurtosistest(a, axis)\n"
     ]
    }
   ],
   "source": [
    "print(model.summary())"
   ]
  },
  {
   "cell_type": "markdown",
   "metadata": {},
   "source": [
    "## 2. Оценить значимость уравнения в целом, используя значение множественного коэффициента корреляции и общего F-критерия Фишера."
   ]
  },
  {
   "cell_type": "code",
   "execution_count": 9,
   "metadata": {},
   "outputs": [
    {
     "name": "stdout",
     "output_type": "stream",
     "text": [
      "Множественный коэффициент корреляции: 0.9728471690773998\n",
      "F-статистика: 58.89242342360955, p-value: 1.1671216997748412e-06\n"
     ]
    }
   ],
   "source": [
    "print(f\"Множественный коэффициент корреляции: {np.sqrt(model.rsquared)}\")\n",
    "print(f\"F-статистика: {model.fvalue}, p-value: {model.f_pvalue}\")"
   ]
  },
  {
   "cell_type": "markdown",
   "metadata": {},
   "source": [
    "Выводы из пункта:\n",
    "- 97.2 % изменчивости целевой переменной `y` объяснено построенным уравнением множественной регрессии;\n",
    "- Посколкьу p-value для рассчитанной F-статистики существенно ниже уровня значимости 0.05, мы можем сказать, что построенное уравнение множественной регрессии является стат. значимым "
   ]
  },
  {
   "cell_type": "markdown",
   "metadata": {},
   "source": [
    "## 3. Оценить статистическую значимость параметров регрессионной модели с помощью t-критерия."
   ]
  },
  {
   "cell_type": "code",
   "execution_count": 10,
   "metadata": {},
   "outputs": [
    {
     "name": "stdout",
     "output_type": "stream",
     "text": [
      "const    0.562693\n",
      "x1       0.001068\n",
      "x2       0.898166\n",
      "x3       0.544480\n",
      "dtype: float64\n"
     ]
    }
   ],
   "source": [
    "print(model.tvalues)"
   ]
  },
  {
   "cell_type": "code",
   "execution_count": 11,
   "metadata": {},
   "outputs": [
    {
     "name": "stdout",
     "output_type": "stream",
     "text": [
      "Критическое значение t-статистики (α = 0.05, degrees_of_freedom = 10): 2.2281\n"
     ]
    }
   ],
   "source": [
    "alpha = 0.05\n",
    "n = len(df)  # Количество примеров в датасете\n",
    "k = len(model.params) - 1  # Количество независимых переменных (не считая )\n",
    "\n",
    "# Степени свободы\n",
    "degrees_of_freedom = n - k - 1\n",
    "\n",
    "# Критическое значение t-статистики (двусторонний тест)\n",
    "t_critical = stats.t.ppf(1 - alpha / 2, degrees_of_freedom)\n",
    "\n",
    "print(f\"Критическое значение t-статистики (α = {alpha}, degrees_of_freedom = {degrees_of_freedom}): {t_critical:.4f}\")"
   ]
  },
  {
   "cell_type": "code",
   "execution_count": 15,
   "metadata": {},
   "outputs": [
    {
     "name": "stdout",
     "output_type": "stream",
     "text": [
      "False\n",
      "False\n",
      "False\n",
      "False\n"
     ]
    }
   ],
   "source": [
    "for ind_var_t_stat in model.tvalues.tolist():\n",
    "    if abs(ind_var_t_stat) > abs(t_critical):\n",
    "        print(True)\n",
    "    else:\n",
    "        print(False)"
   ]
  },
  {
   "cell_type": "markdown",
   "metadata": {},
   "source": [
    "Выводы из пункта:\n",
    "- Поскольку значения t-статистики для каждой из нецелевых переменных не превышают по модулю t-stat.crit., данное уравнение не может быть использовано для прогнозирования"
   ]
  },
  {
   "cell_type": "markdown",
   "metadata": {},
   "source": [
    "## Исследовать коллинеарность между факторами. При наличии мультиколлинеарности исключить какой-либо фактор из уравнения регрессии."
   ]
  },
  {
   "cell_type": "code",
   "execution_count": 17,
   "metadata": {},
   "outputs": [],
   "source": [
    "corr_matrix = df[['x1', 'x2', 'x3']].corr()"
   ]
  },
  {
   "cell_type": "code",
   "execution_count": 18,
   "metadata": {},
   "outputs": [
    {
     "data": {
      "text/html": [
       "<div>\n",
       "<style scoped>\n",
       "    .dataframe tbody tr th:only-of-type {\n",
       "        vertical-align: middle;\n",
       "    }\n",
       "\n",
       "    .dataframe tbody tr th {\n",
       "        vertical-align: top;\n",
       "    }\n",
       "\n",
       "    .dataframe thead th {\n",
       "        text-align: right;\n",
       "    }\n",
       "</style>\n",
       "<table border=\"1\" class=\"dataframe\">\n",
       "  <thead>\n",
       "    <tr style=\"text-align: right;\">\n",
       "      <th></th>\n",
       "      <th>x1</th>\n",
       "      <th>x2</th>\n",
       "      <th>x3</th>\n",
       "    </tr>\n",
       "  </thead>\n",
       "  <tbody>\n",
       "    <tr>\n",
       "      <th>x1</th>\n",
       "      <td>1.000000</td>\n",
       "      <td>0.361976</td>\n",
       "      <td>0.999022</td>\n",
       "    </tr>\n",
       "    <tr>\n",
       "      <th>x2</th>\n",
       "      <td>0.361976</td>\n",
       "      <td>1.000000</td>\n",
       "      <td>0.373459</td>\n",
       "    </tr>\n",
       "    <tr>\n",
       "      <th>x3</th>\n",
       "      <td>0.999022</td>\n",
       "      <td>0.373459</td>\n",
       "      <td>1.000000</td>\n",
       "    </tr>\n",
       "  </tbody>\n",
       "</table>\n",
       "</div>"
      ],
      "text/plain": [
       "          x1        x2        x3\n",
       "x1  1.000000  0.361976  0.999022\n",
       "x2  0.361976  1.000000  0.373459\n",
       "x3  0.999022  0.373459  1.000000"
      ]
     },
     "execution_count": 18,
     "metadata": {},
     "output_type": "execute_result"
    }
   ],
   "source": [
    "corr_matrix"
   ]
  },
  {
   "cell_type": "code",
   "execution_count": 21,
   "metadata": {},
   "outputs": [
    {
     "data": {
      "image/png": "[encoded data removed]",
      "text/plain": [
       "<Figure size 800x600 with 2 Axes>"
      ]
     },
     "metadata": {},
     "output_type": "display_data"
    }
   ],
   "source": [
    "plt.figure(figsize=(8, 6))\n",
    "sns.heatmap(corr_matrix, annot=True, cmap='coolwarm', vmin=-1, vmax=1)\n",
    "plt.title(\"Матрица корреляции\")\n",
    "plt.show()"
   ]
  },
  {
   "cell_type": "markdown",
   "metadata": {},
   "source": [
    "Видим, что третья и первая независимые переменные очень сильно между собой коррелируют. Поскольку коэффициенты парной корреляции у этих двух факторов примерно одинаковые, можно исключить любой из них. Например, `x3`."
   ]
  },
  {
   "cell_type": "markdown",
   "metadata": {},
   "source": [
    "## 5. Построить новое уравнение множественной регрессии, провести все необходимые исследования, аналогичные проведенным выше.\n"
   ]
  },
  {
   "cell_type": "code",
   "execution_count": 22,
   "metadata": {},
   "outputs": [],
   "source": [
    "X = df[['x1', 'x2']]\n",
    "X = sm.add_constant(X)  # Добавляем константу\n",
    "y = df['y']"
   ]
  },
  {
   "cell_type": "code",
   "execution_count": 23,
   "metadata": {},
   "outputs": [],
   "source": [
    "model = sm.OLS(y, X).fit() # Обучаем модель множественной регрессии"
   ]
  },
  {
   "cell_type": "code",
   "execution_count": 26,
   "metadata": {},
   "outputs": [
    {
     "name": "stdout",
     "output_type": "stream",
     "text": [
      "                            OLS Regression Results                            \n",
      "==============================================================================\n",
      "Dep. Variable:                      y   R-squared:                       0.945\n",
      "Model:                            OLS   Adj. R-squared:                  0.935\n",
      "Method:                 Least Squares   F-statistic:                     94.22\n",
      "Date:                Wed, 19 Mar 2025   Prob (F-statistic):           1.20e-07\n",
      "Time:                        22:23:02   Log-Likelihood:                -28.306\n",
      "No. Observations:                  14   AIC:                             62.61\n",
      "Df Residuals:                      11   BIC:                             64.53\n",
      "Df Model:                           2                                         \n",
      "Covariance Type:            nonrobust                                         \n",
      "==============================================================================\n",
      "                 coef    std err          t      P>|t|      [0.025      0.975]\n",
      "------------------------------------------------------------------------------\n",
      "const          2.0509      5.249      0.391      0.703      -9.503      13.605\n",
      "x1             0.5259      0.043     12.340      0.000       0.432       0.620\n",
      "x2             0.1592      0.140      1.138      0.279      -0.149       0.467\n",
      "==============================================================================\n",
      "Omnibus:                        0.936   Durbin-Watson:                   2.199\n",
      "Prob(Omnibus):                  0.626   Jarque-Bera (JB):                0.155\n",
      "Skew:                          -0.252   Prob(JB):                        0.925\n",
      "Kurtosis:                       3.103   Cond. No.                         641.\n",
      "==============================================================================\n",
      "\n",
      "Notes:\n",
      "[1] Standard Errors assume that the covariance matrix of the errors is correctly specified.\n"
     ]
    },
    {
     "name": "stderr",
     "output_type": "stream",
     "text": [
      "/home/eugene/miniconda3/lib/python3.12/site-packages/scipy/stats/_stats_py.py:1971: UserWarning: kurtosistest only valid for n>=20 ... continuing anyway, n=14\n",
      "  k, _ = kurtosistest(a, axis)\n"
     ]
    }
   ],
   "source": [
    "print(model.summary())"
   ]
  },
  {
   "cell_type": "markdown",
   "metadata": {},
   "source": [
    "#### Оценить значимость уравнения в целом, используя значение множественного коэффициента корреляции и общего F-критерия Фишера."
   ]
  },
  {
   "cell_type": "code",
   "execution_count": 25,
   "metadata": {},
   "outputs": [
    {
     "name": "stdout",
     "output_type": "stream",
     "text": [
      "Множественный коэффициент корреляции: 0.9720306255611043\n",
      "F-статистика: 94.21632885275885, p-value: 1.1988925065427086e-07\n"
     ]
    }
   ],
   "source": [
    "print(f\"Множественный коэффициент корреляции: {np.sqrt(model.rsquared)}\")\n",
    "print(f\"F-статистика: {model.fvalue}, p-value: {model.f_pvalue}\")"
   ]
  },
  {
   "cell_type": "markdown",
   "metadata": {},
   "source": [
    "Выводы из пункта:\n",
    "- 97.2 % изменчивости целевой переменной `y` объяснено построенным уравнением множественной регрессии;\n",
    "- Посколкьу p-value для рассчитанной F-статистики существенно ниже уровня значимости 0.05, мы можем сказать, что построенное уравнение множественной регрессии является стат. значимым "
   ]
  },
  {
   "cell_type": "markdown",
   "metadata": {},
   "source": [
    "#### Оценить статистическую значимость параметров регрессионной модели с помощью t-критерия."
   ]
  },
  {
   "cell_type": "code",
   "execution_count": 27,
   "metadata": {},
   "outputs": [
    {
     "name": "stdout",
     "output_type": "stream",
     "text": [
      "const     0.390698\n",
      "x1       12.340250\n",
      "x2        1.137959\n",
      "dtype: float64\n"
     ]
    }
   ],
   "source": [
    "print(model.tvalues)"
   ]
  },
  {
   "cell_type": "code",
   "execution_count": 28,
   "metadata": {},
   "outputs": [
    {
     "name": "stdout",
     "output_type": "stream",
     "text": [
      "Критическое значение t-статистики (α = 0.05, degrees_of_freedom = 11): 2.2010\n"
     ]
    }
   ],
   "source": [
    "alpha = 0.05\n",
    "n = len(df)  # Количество примеров в датасете\n",
    "k = len(model.params) - 1  # Количество независимых переменных (не считая )\n",
    "\n",
    "# Степени свободы\n",
    "degrees_of_freedom = n - k - 1\n",
    "\n",
    "# Критическое значение t-статистики (двусторонний тест)\n",
    "t_critical = stats.t.ppf(1 - alpha / 2, degrees_of_freedom)\n",
    "\n",
    "print(f\"Критическое значение t-статистики (α = {alpha}, degrees_of_freedom = {degrees_of_freedom}): {t_critical:.4f}\")"
   ]
  },
  {
   "cell_type": "code",
   "execution_count": 29,
   "metadata": {},
   "outputs": [
    {
     "name": "stdout",
     "output_type": "stream",
     "text": [
      "False\n",
      "True\n",
      "False\n"
     ]
    }
   ],
   "source": [
    "for ind_var_t_stat in model.tvalues.tolist():\n",
    "    if abs(ind_var_t_stat) > abs(t_critical):\n",
    "        print(True)\n",
    "    else:\n",
    "        print(False)"
   ]
  },
  {
   "cell_type": "markdown",
   "metadata": {},
   "source": [
    "Выводы из пункта:\n",
    "- Независимая переменная `x1` имеет значение t-статистики существенно больше, чем t-stat.crit., следовательно, построенное уравнение множественной регрессии может использоваться для прогнозирования "
   ]
  },
  {
   "cell_type": "markdown",
   "metadata": {},
   "source": [
    "## 6. На основании результатов п. 5 найти\n",
    "* средние коэффициенты эластичности фактора y от независимых\n",
    "факторов;\n",
    "* прогнозное значение результата при значении важнейшей\n",
    "объясняющей переменной, равном максимальному наблюденному значению,\n",
    "увеличенному на 10 %, и при значении второй объясняющей переменной,\n",
    "равном минимальному наблюденному значению, уменьшенному на 15%.\n",
    "* Интервальное предсказание значения y с надежностью 0,95."
   ]
  },
  {
   "cell_type": "code",
   "execution_count": 30,
   "metadata": {},
   "outputs": [
    {
     "name": "stdout",
     "output_type": "stream",
     "text": [
      "Средние коэффициенты эластичности:\n",
      "const         NaN\n",
      "x1       0.767090\n",
      "x2       0.176164\n",
      "dtype: float64\n"
     ]
    }
   ],
   "source": [
    "# а) Средние коэффициенты эластичности\n",
    "elasticities = model.params[1:] * X.mean() / y.mean()\n",
    "print(\"Средние коэффициенты эластичности:\")\n",
    "print(elasticities)"
   ]
  },
  {
   "cell_type": "code",
   "execution_count": 31,
   "metadata": {},
   "outputs": [
    {
     "name": "stdout",
     "output_type": "stream",
     "text": [
      "Прогнозное значение y: 50.928134031511775\n"
     ]
    }
   ],
   "source": [
    "# б) Прогнозное значение\n",
    "x1_max = df['x1'].max() * 1.10\n",
    "x2_min = df['x2'].min() * 0.85\n",
    "new_data = pd.DataFrame({'const': [1], 'x1': [x1_max], 'x2': [x2_min]})\n",
    "prediction = model.predict(new_data)\n",
    "print(f\"Прогнозное значение y: {prediction[0]}\")"
   ]
  },
  {
   "cell_type": "code",
   "execution_count": 43,
   "metadata": {},
   "outputs": [
    {
     "name": "stdout",
     "output_type": "stream",
     "text": [
      "Интервальное предсказание y: [45.04906833708088, 56.80719972594267]\n"
     ]
    }
   ],
   "source": [
    "# в) Интервальное предсказание\n",
    "prediction = model.get_prediction(new_data)\n",
    "prediction_summary = prediction.summary_frame(alpha=0.05)\n",
    "print(f\"Интервальное предсказание y: [{prediction_summary.mean_ci_lower.tolist()[0]}, {prediction_summary.mean_ci_upper.tolist()[0]}]\")"
   ]
  }
 ],
 "metadata": {
  "kernelspec": {
   "display_name": "Python 3",
   "language": "python",
   "name": "python3"
  },
  "language_info": {
   "codemirror_mode": {
    "name": "ipython",
    "version": 3
   },
   "file_extension": ".py",
   "mimetype": "text/x-python",
   "name": "python",
   "nbconvert_exporter": "python",
   "pygments_lexer": "ipython3",
   "version": "3.12.1"
  }
 },
 "nbformat": 4,
 "nbformat_minor": 2
}
