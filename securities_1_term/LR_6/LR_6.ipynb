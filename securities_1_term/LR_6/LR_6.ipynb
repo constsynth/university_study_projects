{
 "cells": [
  {
   "cell_type": "markdown",
   "metadata": {},
   "source": [
    "## ПРОВЕРКА АДЕКВАТНОСТИ МОДЕЛИ РЕГРЕССИИ ПО ОСТАТКАМ\n",
    "### Вариант - 3"
   ]
  },
  {
   "cell_type": "code",
   "execution_count": 1,
   "metadata": {},
   "outputs": [],
   "source": [
    "#TODO: пока что представлено решение для уравнения регрессии из ЛР55, сделать то же самое для лабораторной работы 3 "
   ]
  },
  {
   "cell_type": "code",
   "execution_count": 37,
   "metadata": {},
   "outputs": [],
   "source": [
    "import math\n",
    "import numpy as np\n",
    "import pandas as pd\n",
    "import matplotlib.pyplot as plt"
   ]
  },
  {
   "cell_type": "markdown",
   "metadata": {},
   "source": [
    "В ходе выполнения лабораторной работы 5 получили следующее уравнение множественной регрессии: `y = 0.5259 * x1 + 0.1592 * x2 + 2.0509`"
   ]
  },
  {
   "cell_type": "markdown",
   "metadata": {},
   "source": [
    "### Считываем набор данных для третьего варианта"
   ]
  },
  {
   "cell_type": "code",
   "execution_count": 96,
   "metadata": {},
   "outputs": [],
   "source": [
    "def lr_predict(\n",
    "    data: pd.DataFrame,\n",
    "    x1_column_name: str = 'x1',\n",
    "    x2_column_name: str = 'x2'\n",
    "    ) -> list[float]:\n",
    "    x1, x2 = data[x1_column_name], data[x2_column_name]\n",
    "    predict = 0.5259 * x1 + 0.1592 * x2 + 2.0509\n",
    "    return predict"
   ]
  },
  {
   "cell_type": "code",
   "execution_count": 97,
   "metadata": {},
   "outputs": [],
   "source": [
    "def get_residuals(\n",
    "    data: pd.DataFrame,\n",
    "    x1_column_name: str = 'x1',\n",
    "    x2_column_name: str = 'x2',\n",
    "    target_column_name: str = 'y'\n",
    "    ) -> list[float]:\n",
    "    targets = data[target_column_name]\n",
    "    residuals = targets - lr_predict(data, x1_column_name, x2_column_name)\n",
    "    return residuals"
   ]
  },
  {
   "cell_type": "code",
   "execution_count": 98,
   "metadata": {},
   "outputs": [],
   "source": [
    "df = pd.read_excel('../LR_5/v3_table.xlsx')"
   ]
  },
  {
   "cell_type": "code",
   "execution_count": 99,
   "metadata": {},
   "outputs": [
    {
     "data": {
      "text/html": [
       "<div>\n",
       "<style scoped>\n",
       "    .dataframe tbody tr th:only-of-type {\n",
       "        vertical-align: middle;\n",
       "    }\n",
       "\n",
       "    .dataframe tbody tr th {\n",
       "        vertical-align: top;\n",
       "    }\n",
       "\n",
       "    .dataframe thead th {\n",
       "        text-align: right;\n",
       "    }\n",
       "</style>\n",
       "<table border=\"1\" class=\"dataframe\">\n",
       "  <thead>\n",
       "    <tr style=\"text-align: right;\">\n",
       "      <th></th>\n",
       "      <th>x1</th>\n",
       "      <th>x2</th>\n",
       "      <th>x3</th>\n",
       "      <th>y</th>\n",
       "    </tr>\n",
       "  </thead>\n",
       "  <tbody>\n",
       "    <tr>\n",
       "      <th>0</th>\n",
       "      <td>48</td>\n",
       "      <td>44</td>\n",
       "      <td>47</td>\n",
       "      <td>34</td>\n",
       "    </tr>\n",
       "    <tr>\n",
       "      <th>1</th>\n",
       "      <td>57</td>\n",
       "      <td>35</td>\n",
       "      <td>56</td>\n",
       "      <td>35</td>\n",
       "    </tr>\n",
       "    <tr>\n",
       "      <th>2</th>\n",
       "      <td>55</td>\n",
       "      <td>39</td>\n",
       "      <td>54</td>\n",
       "      <td>38</td>\n",
       "    </tr>\n",
       "    <tr>\n",
       "      <th>3</th>\n",
       "      <td>61</td>\n",
       "      <td>43</td>\n",
       "      <td>62</td>\n",
       "      <td>39</td>\n",
       "    </tr>\n",
       "    <tr>\n",
       "      <th>4</th>\n",
       "      <td>56</td>\n",
       "      <td>36</td>\n",
       "      <td>56</td>\n",
       "      <td>41</td>\n",
       "    </tr>\n",
       "  </tbody>\n",
       "</table>\n",
       "</div>"
      ],
      "text/plain": [
       "   x1  x2  x3   y\n",
       "0  48  44  47  34\n",
       "1  57  35  56  35\n",
       "2  55  39  54  38\n",
       "3  61  43  62  39\n",
       "4  56  36  56  41"
      ]
     },
     "execution_count": 99,
     "metadata": {},
     "output_type": "execute_result"
    }
   ],
   "source": [
    "df.head()"
   ]
  },
  {
   "cell_type": "code",
   "execution_count": 100,
   "metadata": {},
   "outputs": [],
   "source": [
    "df = df.drop(columns=['x3']) # Так как исключили `x3` в силу высокой скореллированности с `x1`"
   ]
  },
  {
   "cell_type": "code",
   "execution_count": 101,
   "metadata": {},
   "outputs": [
    {
     "data": {
      "text/html": [
       "<div>\n",
       "<style scoped>\n",
       "    .dataframe tbody tr th:only-of-type {\n",
       "        vertical-align: middle;\n",
       "    }\n",
       "\n",
       "    .dataframe tbody tr th {\n",
       "        vertical-align: top;\n",
       "    }\n",
       "\n",
       "    .dataframe thead th {\n",
       "        text-align: right;\n",
       "    }\n",
       "</style>\n",
       "<table border=\"1\" class=\"dataframe\">\n",
       "  <thead>\n",
       "    <tr style=\"text-align: right;\">\n",
       "      <th></th>\n",
       "      <th>x1</th>\n",
       "      <th>x2</th>\n",
       "      <th>y</th>\n",
       "    </tr>\n",
       "  </thead>\n",
       "  <tbody>\n",
       "    <tr>\n",
       "      <th>0</th>\n",
       "      <td>48</td>\n",
       "      <td>44</td>\n",
       "      <td>34</td>\n",
       "    </tr>\n",
       "    <tr>\n",
       "      <th>1</th>\n",
       "      <td>57</td>\n",
       "      <td>35</td>\n",
       "      <td>35</td>\n",
       "    </tr>\n",
       "    <tr>\n",
       "      <th>2</th>\n",
       "      <td>55</td>\n",
       "      <td>39</td>\n",
       "      <td>38</td>\n",
       "    </tr>\n",
       "    <tr>\n",
       "      <th>3</th>\n",
       "      <td>61</td>\n",
       "      <td>43</td>\n",
       "      <td>39</td>\n",
       "    </tr>\n",
       "    <tr>\n",
       "      <th>4</th>\n",
       "      <td>56</td>\n",
       "      <td>36</td>\n",
       "      <td>41</td>\n",
       "    </tr>\n",
       "  </tbody>\n",
       "</table>\n",
       "</div>"
      ],
      "text/plain": [
       "   x1  x2   y\n",
       "0  48  44  34\n",
       "1  57  35  35\n",
       "2  55  39  38\n",
       "3  61  43  39\n",
       "4  56  36  41"
      ]
     },
     "execution_count": 101,
     "metadata": {},
     "output_type": "execute_result"
    }
   ],
   "source": [
    "df.head()"
   ]
  },
  {
   "cell_type": "code",
   "execution_count": 102,
   "metadata": {},
   "outputs": [],
   "source": [
    "residuals = get_residuals(\n",
    "    df,\n",
    "    x1_column_name='x1',\n",
    "    x2_column_name='x2',\n",
    "    target_column_name='y'\n",
    ")"
   ]
  },
  {
   "cell_type": "code",
   "execution_count": 103,
   "metadata": {},
   "outputs": [
    {
     "data": {
      "text/plain": [
       "0    -0.2989\n",
       "1    -2.5992\n",
       "2     0.8158\n",
       "3    -1.9764\n",
       "4     3.7675\n",
       "5     0.9753\n",
       "6    -0.9761\n",
       "7     0.6089\n",
       "8    -0.2316\n",
       "9     0.3789\n",
       "10    1.0192\n",
       "11    0.8044\n",
       "12    1.5518\n",
       "13   -3.8184\n",
       "dtype: float64"
      ]
     },
     "execution_count": 103,
     "metadata": {},
     "output_type": "execute_result"
    }
   ],
   "source": [
    "residuals # список остатков при запуске модели на загруженных данных"
   ]
  },
  {
   "cell_type": "code",
   "execution_count": 104,
   "metadata": {},
   "outputs": [
    {
     "data": {
      "text/plain": [
       "Text(0.5, 1.0, 'График остатков для построенной модели множественной регрессии')"
      ]
     },
     "execution_count": 104,
     "metadata": {},
     "output_type": "execute_result"
    },
    {
     "data": {
      "image/png": "[encoded data removed]",
      "text/plain": [
       "<Figure size 900x700 with 1 Axes>"
      ]
     },
     "metadata": {},
     "output_type": "display_data"
    }
   ],
   "source": [
    "plt.figure(figsize=(9, 7))\n",
    "plt.plot(residuals)\n",
    "plt.xlabel('Номер целевой переменной из датасета')\n",
    "plt.ylabel('Значение остатка')\n",
    "plt.title('График остатков для построенной модели множественной регрессии')"
   ]
  },
  {
   "cell_type": "markdown",
   "metadata": {},
   "source": [
    "### Проверка 1. Уровни ряда остатков имеют случайный характер."
   ]
  },
  {
   "attachments": {
    "image-3.png": {
     "image/png": "[encoded data removed]"
    }
   },
   "cell_type": "markdown",
   "metadata": {},
   "source": [
    "#### Посчитаем число поворотных точек\n",
    "![image-3.png](attachment:image-3.png)"
   ]
  },
  {
   "cell_type": "code",
   "execution_count": 88,
   "metadata": {},
   "outputs": [
    {
     "name": "stdout",
     "output_type": "stream",
     "text": [
      "Число поворотных точек: 10\n",
      "Общее количество наболюдений в выборке: 14\n"
     ]
    }
   ],
   "source": [
    "turning_points = 0\n",
    "for i in range(1, len(residuals) - 1):\n",
    "    if (residuals[i - 1] < residuals[i] and residuals[i] > residuals[i + 1]) \\\n",
    "        or (residuals[i - 1] > residuals[i] and residuals[i] < residuals[i + 1]):\n",
    "        turning_points += 1\n",
    "print(f'Число поворотных точек: {turning_points}')\n",
    "print(f'Общее количество наболюдений в выборке: {len(residuals)}')\n"
   ]
  },
  {
   "attachments": {
    "image-2.png": {
     "image/png": "[encoded data removed]"
    }
   },
   "cell_type": "markdown",
   "metadata": {},
   "source": [
    "Далее подсчитывается число поворотных точек p. Критерием случайности с\n",
    "5%-ным уровнем значимости, т.е. с доверительной вероятностью 95%,\n",
    "является выполнение равенства\n",
    "![image-4.png](attachment:image-2.png)"
   ]
  },
  {
   "cell_type": "code",
   "execution_count": 89,
   "metadata": {},
   "outputs": [
    {
     "data": {
      "text/plain": [
       "True"
      ]
     },
     "execution_count": 89,
     "metadata": {},
     "output_type": "execute_result"
    }
   ],
   "source": [
    "10 > (2/3 * ((len(residuals) - 2)) - 1.96 * math.sqrt((16 * len(residuals)) - 29) / 90)"
   ]
  },
  {
   "cell_type": "markdown",
   "metadata": {},
   "source": [
    "**Вывод**: поскольку неравенство выполняется, то составленное уравнение линейной регрессии адекватно"
   ]
  },
  {
   "cell_type": "markdown",
   "metadata": {},
   "source": [
    "### Проверка 2. Уровни ряда остатков имеют случайный характер."
   ]
  },
  {
   "cell_type": "markdown",
   "metadata": {},
   "source": [
    "Для проверки равенства математического ожидания остаточной\n",
    "последовательности нулю вычисляется среднее значение ряда остатков"
   ]
  },
  {
   "cell_type": "code",
   "execution_count": 90,
   "metadata": {},
   "outputs": [
    {
     "data": {
      "text/plain": [
       "0.001514285714284469"
      ]
     },
     "execution_count": 90,
     "metadata": {},
     "output_type": "execute_result"
    }
   ],
   "source": [
    "residuals_mean = np.mean(residuals)\n",
    "residuals_mean"
   ]
  },
  {
   "cell_type": "markdown",
   "metadata": {},
   "source": [
    "Поскольку среднее значение остатков модели регрессии примерно равно нулю с точностью до 3-го знака, то можно считать, что модель не содержит постоянной систематической\n",
    "ошибки и адекватна по критерию нулевого среднего. "
   ]
  },
  {
   "cell_type": "markdown",
   "metadata": {},
   "source": [
    "### Проверка 3. Значения остатков независимы друг от друга, т.е. отсутствует автокорреляция."
   ]
  },
  {
   "cell_type": "markdown",
   "metadata": {},
   "source": [
    "Проверку независимости последовательности остатков (отсутствие\n",
    "автокорреляции) осуществляют с помощью d-критерия Дарбина-Уотсона. "
   ]
  },
  {
   "attachments": {
    "image.png": {
     "image/png": "[encoded data removed]"
    }
   },
   "cell_type": "markdown",
   "metadata": {},
   "source": [
    "![image.png](attachment:image.png)"
   ]
  },
  {
   "cell_type": "code",
   "execution_count": 105,
   "metadata": {},
   "outputs": [],
   "source": [
    "def get_durbin_watson_statistic(residuals: list[float]) -> float:\n",
    "    sum_of_squares_of_residuals = sum([res ** 2 for res in residuals])\n",
    "    squared_diff = 0\n",
    "    for i in range(1, len(residuals)):\n",
    "        squared_diff += (residuals[i] - residuals[i - 1]) ** 2\n",
    "    return squared_diff / sum_of_squares_of_residuals"
   ]
  },
  {
   "cell_type": "code",
   "execution_count": 106,
   "metadata": {},
   "outputs": [],
   "source": [
    "d1 = 0.66 # Нижняя граница значения критерий Дарбина-Уотсона для 14-ти наблюдений в выборке\n",
    "d2 = 1.254 # Верхняя граница значения критерий Дарбина-Уотсона для 14-ти наблюдений в выборке"
   ]
  },
  {
   "cell_type": "code",
   "execution_count": 93,
   "metadata": {},
   "outputs": [],
   "source": [
    "def durbin_watson_criterion(\n",
    "        d: float,\n",
    "        d1: float,\n",
    "        d2: float) -> str:\n",
    "        d_w_statistic = d\n",
    "        if d_w_statistic < d1:\n",
    "                return 'Гипотеза о независимости остатков отвергается, и модель признается неадекватной по критерию независимости остатков.'\n",
    "        elif d1 < d_w_statistic < d2:\n",
    "                return 'Нет достаточных оснований делать тот или иной вывод.'\n",
    "        elif d2 < d_w_statistic < 2:\n",
    "                return 'Гипотеза о независимости остатков принимается и модель признается адекватной по данному критерию.'\n",
    "        elif d_w_statistic > 2:\n",
    "                d_w_statistic = 4 - d_w_statistic\n",
    "                return durbin_watson_criterion(d_w_statistic, d1, d2)\n",
    "                "
   ]
  },
  {
   "cell_type": "code",
   "execution_count": 94,
   "metadata": {},
   "outputs": [
    {
     "data": {
      "text/plain": [
       "2.1984293258604435"
      ]
     },
     "execution_count": 94,
     "metadata": {},
     "output_type": "execute_result"
    }
   ],
   "source": [
    "d = get_durbin_watson_statistic(\n",
    "    residuals=residuals\n",
    ")\n",
    "d"
   ]
  },
  {
   "cell_type": "code",
   "execution_count": 95,
   "metadata": {},
   "outputs": [
    {
     "data": {
      "text/plain": [
       "'Гипотеза о независимости остатков принимается и модель признается адекватной по данному критерию.'"
      ]
     },
     "execution_count": 95,
     "metadata": {},
     "output_type": "execute_result"
    }
   ],
   "source": [
    "durbin_watson_criterion(\n",
    "    d=d,\n",
    "    d1=d1,\n",
    "    d2=d2\n",
    ")"
   ]
  }
 ],
 "metadata": {
  "kernelspec": {
   "display_name": "base",
   "language": "python",
   "name": "python3"
  },
  "language_info": {
   "codemirror_mode": {
    "name": "ipython",
    "version": 3
   },
   "file_extension": ".py",
   "mimetype": "text/x-python",
   "name": "python",
   "nbconvert_exporter": "python",
   "pygments_lexer": "ipython3",
   "version": "3.12.1"
  }
 },
 "nbformat": 4,
 "nbformat_minor": 2
}
