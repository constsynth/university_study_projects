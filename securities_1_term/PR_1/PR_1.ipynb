{
 "cells": [
  {
   "cell_type": "markdown",
   "metadata": {},
   "source": [
    "# Нормальное распределение"
   ]
  },
  {
   "cell_type": "markdown",
   "metadata": {},
   "source": [
    "## Импорт необходимых библиотек"
   ]
  },
  {
   "cell_type": "code",
   "execution_count": 19,
   "metadata": {},
   "outputs": [],
   "source": [
    "import numpy as np\n",
    "from scipy.stats import norm\n",
    "from scipy.optimize import fsolve\n",
    "from scipy.stats import t, chi2, f"
   ]
  },
  {
   "cell_type": "markdown",
   "metadata": {},
   "source": [
    "## Задание 1.\n",
    "Известно, что цена акции X – нормально распределенная случайная\n",
    "величина X N (50, 4) , где первый параметр это математическое\n",
    "ожидание, второй – дисперсия. Найти вероятности того, что X примет\n",
    "значения:\n",
    "- в интервале (47,55),\n",
    "- меньшее 49,\n",
    "- большее 53,\n",
    "- отличающееся от своего математического ожидания по абсолютной величине не больше чем на 10%.\n",
    "- сформулировать правило трех сигм для случайной величины X ."
   ]
  },
  {
   "cell_type": "code",
   "execution_count": 2,
   "metadata": {},
   "outputs": [
    {
     "name": "stdout",
     "output_type": "stream",
     "text": [
      "а) P(47 < X < 55) = 0.9270\n",
      "б) P(X < 49) = 0.3085\n",
      "в) P(X > 53) = 0.0668\n",
      "г) P(|X - μ| ≤ 10%) = 0.9876\n",
      "\n",
      "д) Правило трех сигм для X ~ N(50, 4.0):\n",
      "• P(μ-σ ≤ X ≤ μ+σ) ≈ 68.27%\n",
      "• P(μ-2σ ≤ X ≤ μ+2σ) ≈ 95.45%\n",
      "• P(μ-3σ ≤ X ≤ μ+3σ) ≈ 99.73%\n"
     ]
    }
   ],
   "source": [
    "mu = 50 # мат. ожидание\n",
    "sigma = np.sqrt(4)  # стандартное отклонение\n",
    "\n",
    "# а) Вероятность, что X в интервале (47,55)\n",
    "p_a = norm.cdf(55, mu, sigma) - norm.cdf(47, mu, sigma)\n",
    "\n",
    "# б) Вероятность, что X меньше 49\n",
    "p_b = norm.cdf(49, mu, sigma)\n",
    "\n",
    "# в) Вероятность, что X больше 53\n",
    "p_c = 1 - norm.cdf(53, mu, sigma)\n",
    "\n",
    "# г) Вероятность, что X отличается от мат. ожидания не больше чем на 10%\n",
    "delta = 0.1 * mu  # 10% от мат. ожидания\n",
    "p_d = norm.cdf(mu + delta, mu, sigma) - norm.cdf(mu - delta, mu, sigma)\n",
    "\n",
    "# д) Правило трех сигм для X\n",
    "rule_3sigma = f\"Правило трех сигм для X ~ N({mu}, {sigma**2}):\\n\" \\\n",
    "              f\"• P(μ-σ ≤ X ≤ μ+σ) ≈ 68.27%\\n\" \\\n",
    "              f\"• P(μ-2σ ≤ X ≤ μ+2σ) ≈ 95.45%\\n\" \\\n",
    "              f\"• P(μ-3σ ≤ X ≤ μ+3σ) ≈ 99.73%\"\n",
    "\n",
    "print(f\"а) P(47 < X < 55) = {p_a:.4f}\")\n",
    "print(f\"б) P(X < 49) = {p_b:.4f}\")\n",
    "print(f\"в) P(X > 53) = {p_c:.4f}\")\n",
    "print(f\"г) P(|X - μ| ≤ 10%) = {p_d:.4f}\")\n",
    "print(\"\\nд)\", rule_3sigma)"
   ]
  },
  {
   "cell_type": "markdown",
   "metadata": {},
   "source": [
    "## Задание 2.\n",
    "В инвестиционном портфеле имеется набор ценных бумаг. Их средняя\n",
    "стоимость равна 100,06 руб. Известно, что 5% ценных бумаг имеют\n",
    "стоимость меньше 100 руб. Каков процент ценных бумаг, стоимость\n",
    "которых превышает 94 руб.?"
   ]
  },
  {
   "cell_type": "code",
   "execution_count": 6,
   "metadata": {},
   "outputs": [
    {
     "name": "stdout",
     "output_type": "stream",
     "text": [
      "Стандартное отклонение: 0.0365\n",
      "Процент ценных бумаг стоимостью > 94 руб.: 100.00000%\n"
     ]
    }
   ],
   "source": [
    "mu = 100.06 # мат. ожидание\n",
    "p_less_100 = 0.05 # вероятность того, что обнаружим ценную бумагу стоимостью меньше 100 руб.\n",
    "\n",
    "# Находим sigma по процентилю\n",
    "sigma = (100 - mu) / norm.ppf(p_less_100)\n",
    "\n",
    "# Находим процент ценных бумаг стоимостью > 94 руб.\n",
    "p_more_94 = 1 - norm.cdf(94, mu, sigma)\n",
    "\n",
    "print(f\"Стандартное отклонение: {sigma:.4f}\")\n",
    "print(f\"Процент ценных бумаг стоимостью > 94 руб.: {p_more_94*100:.5f}%\")"
   ]
  },
  {
   "cell_type": "markdown",
   "metadata": {},
   "source": [
    "## Задание 3.\n",
    "В нормально распределенной совокупности 15% значений имеют\n",
    "стоимость меньше 12 и 40% – больше 16,2. Найти среднее значение и\n",
    "стандартное отклонение данного распределения."
   ]
  },
  {
   "cell_type": "code",
   "execution_count": 12,
   "metadata": {},
   "outputs": [],
   "source": [
    "def equations(params):\n",
    "    mu, sigma = params\n",
    "    eq1 = norm.cdf(12, mu, sigma) - 0.15\n",
    "    eq2 = 1 - norm.cdf(16.2, mu, sigma) - 0.40\n",
    "    return [eq1, eq2]"
   ]
  },
  {
   "cell_type": "code",
   "execution_count": 13,
   "metadata": {},
   "outputs": [],
   "source": [
    "initial_guess = [14, 2]\n",
    "mu, sigma = fsolve(equations, initial_guess)"
   ]
  },
  {
   "cell_type": "code",
   "execution_count": 14,
   "metadata": {},
   "outputs": [
    {
     "name": "stdout",
     "output_type": "stream",
     "text": [
      "Среднее значение: 15.3750\n",
      "Стандартное отклонение: 3.2564\n"
     ]
    }
   ],
   "source": [
    "print(f\"Среднее значение: {mu:.4f}\")\n",
    "print(f\"Стандартное отклонение: {sigma:.4f}\")"
   ]
  },
  {
   "cell_type": "markdown",
   "metadata": {},
   "source": [
    "## Задание 4.\n",
    "Даны дневные доходности акции [8,3; 8,6; 8,7; 8,8; 9,1; 9,3; 9,4; 13,4; 13,5;\n",
    "13,8; 13,9; 14,1; 14,3]. Считая, что выборка произведена из нормальной\n",
    "генеральной совокупности, найти доверительный интервал для\n",
    "математического ожидания и среднеквадратического отклонения с\n",
    "надежностью α = 0,95 ."
   ]
  },
  {
   "cell_type": "code",
   "execution_count": 17,
   "metadata": {},
   "outputs": [
    {
     "name": "stdout",
     "output_type": "stream",
     "text": [
      "Выборочное среднее: 11.1692\n",
      "Выборочное стандартное отклонение: 2.5921\n",
      "Доверительный интервал для мат. ожидания (95%): (9.6028, 12.7356)\n",
      "Доверительный интервал для ст. отклонения (95%): (1.8588, 4.2789)\n"
     ]
    }
   ],
   "source": [
    "data = np.array([8.3, 8.6, 8.7, 8.8, 9.1, 9.3, 9.4, 13.4, 13.5, 13.8, 13.9, 14.1, 14.3])\n",
    "n = len(data)\n",
    "alpha = 0.95\n",
    "\n",
    "# Выборочное среднее и стандартное отклонение\n",
    "sample_mean = np.mean(data)\n",
    "sample_std = np.std(data, ddof=1)\n",
    "\n",
    "# Доверительный интервал для мат. ожидания\n",
    "t_critical = t.ppf((1 + alpha)/2, df=n-1)\n",
    "me_margin = t_critical * sample_std / np.sqrt(n)\n",
    "ci_mean = (sample_mean - me_margin, sample_mean + me_margin)\n",
    "\n",
    "# Доверительный интервал для стандартного отклонения\n",
    "chi2_lower = chi2.ppf((1 - alpha)/2, df=n-1)\n",
    "chi2_upper = chi2.ppf((1 + alpha)/2, df=n-1)\n",
    "ci_std = (np.sqrt((n-1)*sample_std**2/chi2_upper), np.sqrt((n-1)*sample_std**2/chi2_lower))\n",
    "\n",
    "print(f\"Выборочное среднее: {sample_mean:.4f}\")\n",
    "print(f\"Выборочное стандартное отклонение: {sample_std:.4f}\")\n",
    "print(f\"Доверительный интервал для мат. ожидания (95%): ({ci_mean[0]:.4f}, {ci_mean[1]:.4f})\")\n",
    "print(f\"Доверительный интервал для ст. отклонения (95%): ({ci_std[0]:.4f}, {ci_std[1]:.4f})\")"
   ]
  },
  {
   "attachments": {
    "image.png": {
     "image/png": "[encoded data removed]"
    }
   },
   "cell_type": "markdown",
   "metadata": {},
   "source": [
    "## Задание 5.\n",
    "Какая из двух акций (данные приведены ниже) выгоднее для инвестора.\n",
    "\n",
    "\n",
    "![image.png](attachment:image.png)"
   ]
  },
  {
   "cell_type": "code",
   "execution_count": 20,
   "metadata": {},
   "outputs": [
    {
     "name": "stdout",
     "output_type": "stream",
     "text": [
      "Акция X:\n",
      "Среднее: 53.85\n",
      "Дисперсия: 6.56\n",
      "Стандартное отклонение: 2.56\n",
      "Коэффициент вариации: 4.75%\n",
      "\n",
      "Акция Y:\n",
      "Среднее: 20.24\n",
      "Дисперсия: 21.44\n",
      "Стандартное отклонение: 4.63\n",
      "Коэффициент вариации: 22.88%\n",
      "\n",
      "Проверка гипотезы о равенстве дисперсий:\n",
      "F-статистика: 3.2707\n",
      "p-значение: 0.0069\n",
      "Заключение: Дисперсии статистически значимо различаются (p < 0.05)\n"
     ]
    }
   ],
   "source": [
    "X_prices = [51, 53, 55, 56, 59]\n",
    "X_days = [6, 5, 4, 3, 2]\n",
    "\n",
    "Y_prices = [15, 18, 20, 23, 27]\n",
    "Y_days = [7, 5, 4, 3, 6]\n",
    "\n",
    "X_values = np.repeat(X_prices, X_days)\n",
    "Y_values = np.repeat(Y_prices, Y_days)\n",
    "\n",
    "# Расчет статистик\n",
    "X_mean = np.mean(X_values)\n",
    "X_var = np.var(X_values, ddof=1)\n",
    "X_std = np.std(X_values, ddof=1)\n",
    "X_cv = (X_std / X_mean) * 100  # Коэффициент вариации в %\n",
    "\n",
    "Y_mean = np.mean(Y_values)\n",
    "Y_var = np.var(Y_values, ddof=1)\n",
    "Y_std = np.std(Y_values, ddof=1)\n",
    "Y_cv = (Y_std / Y_mean) * 100  # Коэффициент вариации в %\n",
    "\n",
    "# Проверка гипотезы о равенстве дисперсий (F-критерий)\n",
    "F = max(X_var, Y_var) / min(X_var, Y_var)\n",
    "df1 = len(X_values) - 1\n",
    "df2 = len(Y_values) - 1\n",
    "p_value = 2 * min(f.cdf(F, df1, df2), 1 - f.cdf(F, df1, df2))\n",
    "\n",
    "# Вывод результатов\n",
    "print(\"Акция X:\")\n",
    "print(f\"Среднее: {X_mean:.2f}\")\n",
    "print(f\"Дисперсия: {X_var:.2f}\")\n",
    "print(f\"Стандартное отклонение: {X_std:.2f}\")\n",
    "print(f\"Коэффициент вариации: {X_cv:.2f}%\\n\")\n",
    "\n",
    "print(\"Акция Y:\")\n",
    "print(f\"Среднее: {Y_mean:.2f}\")\n",
    "print(f\"Дисперсия: {Y_var:.2f}\")\n",
    "print(f\"Стандартное отклонение: {Y_std:.2f}\")\n",
    "print(f\"Коэффициент вариации: {Y_cv:.2f}%\\n\")\n",
    "\n",
    "print(\"Проверка гипотезы о равенстве дисперсий:\")\n",
    "print(f\"F-статистика: {F:.4f}\")\n",
    "print(f\"p-значение: {p_value:.4f}\")\n",
    "\n",
    "if p_value < 0.05:\n",
    "    print(\"Заключение: Дисперсии статистически значимо различаются (p < 0.05)\")\n",
    "else:\n",
    "    print(\"Заключение: Нет оснований отвергать гипотезу о равенстве дисперсий (p ≥ 0.05)\")"
   ]
  },
  {
   "cell_type": "markdown",
   "metadata": {},
   "source": [
    "- Проверка гипотезы о равенстве дисперсий показала, что дисперсии доходностей акции стат. значимо отличаются (p-value = 0.0069 < 0.05).\n",
    "- Акция X является более выгодной для инвестора, так как она демонстрирует более стабильную доходность относительно своего среднего уровня."
   ]
  }
 ],
 "metadata": {
  "kernelspec": {
   "display_name": "base",
   "language": "python",
   "name": "python3"
  },
  "language_info": {
   "codemirror_mode": {
    "name": "ipython",
    "version": 3
   },
   "file_extension": ".py",
   "mimetype": "text/x-python",
   "name": "python",
   "nbconvert_exporter": "python",
   "pygments_lexer": "ipython3",
   "version": "3.12.1"
  }
 },
 "nbformat": 4,
 "nbformat_minor": 2
}
